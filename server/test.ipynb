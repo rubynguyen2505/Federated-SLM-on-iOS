import requests
import numpy as np
import matplotlib.pyplot as plt

# Fetch training metrics from Flask server
url = "http://192.168.12.118:5000/get_training_metrics"
response = requests.get(url)

data = response.json()
if response.status_code != 200:
    print("Error fetching data:", data.get("status"))
else:
    rounds = np.array(data["rounds"])
    federated_accuracy = np.array(data["federated_accuracies"])
    communication_cost = np.array(data["communication_overheads"])
    centralized_accuracy = np.full(len(rounds), 88)  # Fixed centralized model accuracy

    # Plot Accuracy vs. Rounds
    plt.figure(figsize=(10, 5))
    plt.plot(rounds, federated_accuracy, label="Federated Learning", marker='o', linestyle='-')
    plt.plot(rounds, centralized_accuracy, label="Centralized Learning (Fixed)", linestyle='--', color='red')
    plt.xlabel("Federated Rounds")
    plt.ylabel("Accuracy (%)")
    plt.title("Federated vs. Centralized Learning Accuracy")
    plt.legend()
    plt.grid(True)
    plt.show()

    # Plot Communication Overhead vs. Accuracy
    plt.figure(figsize=(10, 5))
    plt.plot(communication_cost, federated_accuracy, marker='s', linestyle='-', color='green')
    plt.xlabel("Communication Overhead (MB)")
    plt.ylabel("Accuracy (%)")
    plt.title("Communication Overhead vs. Accuracy in Federated Learning")
    plt.grid(True)
    plt.show()